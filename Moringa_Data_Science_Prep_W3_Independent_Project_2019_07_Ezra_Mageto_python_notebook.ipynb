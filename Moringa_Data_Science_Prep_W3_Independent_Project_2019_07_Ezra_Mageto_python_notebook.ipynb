{
  "nbformat": 4,
  "nbformat_minor": 0,
  "metadata": {
    "colab": {
      "name": "Moringa_Data_Science_Prep_W3_Independent_Project_2019_07_Ezra_Mageto_python notebook",
      "provenance": [],
      "collapsed_sections": [],
      "authorship_tag": "ABX9TyM6bIByzNCSxdteWjIi3/Kz",
      "include_colab_link": true
    },
    "kernelspec": {
      "name": "python3",
      "display_name": "Python 3"
    },
    "language_info": {
      "name": "python"
    }
  },
  "cells": [
    {
      "cell_type": "markdown",
      "metadata": {
        "id": "view-in-github",
        "colab_type": "text"
      },
      "source": [
        "<a href=\"https://colab.research.google.com/github/EZZRITOE/cookie-recipe/blob/master/Moringa_Data_Science_Prep_W3_Independent_Project_2019_07_Ezra_Mageto_python_notebook.ipynb\" target=\"_parent\"><img src=\"https://colab.research.google.com/assets/colab-badge.svg\" alt=\"Open In Colab\"/></a>"
      ]
    },
    {
      "cell_type": "markdown",
      "metadata": {
        "id": "TYwTsU_Ca1Dk"
      },
      "source": [
        "MTN Cote d'ivoire Data analysis\n"
      ]
    },
    {
      "cell_type": "code",
      "metadata": {
        "id": "j9kgsicnaYsC"
      },
      "source": [
        "import pandas as pd\n",
        "import numpy as np\n"
      ],
      "execution_count": null,
      "outputs": []
    },
    {
      "cell_type": "markdown",
      "metadata": {
        "id": "s3wprxFhin0Y"
      },
      "source": [
        "Creating a dataframe from the CSV file\n"
      ]
    },
    {
      "cell_type": "code",
      "metadata": {
        "colab": {
          "base_uri": "https://localhost:8080/"
        },
        "id": "_FtiqEhlfjGK",
        "outputId": "f5748b47-e5aa-4ec0-b06c-93fd1e15e8d9"
      },
      "source": [
        "  \n",
        "\n",
        "df=('cells_geo.csv')\n",
        "\n",
        "df = pd.read_csv('cells_geo.csv')\n",
        "#df.iloc[:,0 ]\n",
        "print(pd.read_csv('cells_geo.csv', encoding = 'latin1').head(300))\n",
        "\n",
        "df.iloc[:,0 ]\n"
      ],
      "execution_count": null,
      "outputs": [
        {
          "output_type": "stream",
          "text": [
            "    ;VILLES;STATUS;LOCALISATION;DECOUPZONE;ZONENAME;LONGITUDE;LATITUDE;REGION;AREA;CELL_ID;SITE_CODE\n",
            "0    0;ADJAME;In Service;ABIDJAN;\"\"\"Abidjan_EST\";AG...                                              \n",
            "1    1;ADJAME;In Service;ABIDJAN;\"\"\"Abidjan_EST\";AG...                                              \n",
            "2    2;ADJAME;In Service;ABIDJAN;\"\"\"Abidjan_EST\";AG...                                              \n",
            "3    3;ASSINIE;In Service;INTERIEUR;Grand-EST;\"ASSI...                                              \n",
            "4    4;ASSINIE;In Service;INTERIEUR;Grand-EST;\"ASSI...                                              \n",
            "..                                                 ...                                              \n",
            "295  295;ADZOPE;In Service;INTERIEUR;Grand-EST;ZONE...                                              \n",
            "296  296;PORT-BOUET;In Service;ABIDJAN;Abidjan_SUD;...                                              \n",
            "297  297;PORT-BOUET;In Service;ABIDJAN;Abidjan_SUD;...                                              \n",
            "298  298;PORT-BOUET;In Service;ABIDJAN;Abidjan_SUD;...                                              \n",
            "299  299;PORT-BOUET;In Service;ABIDJAN;Abidjan_SUD;...                                              \n",
            "\n",
            "[300 rows x 1 columns]\n"
          ],
          "name": "stdout"
        },
        {
          "output_type": "execute_result",
          "data": {
            "text/plain": [
              "0       0;ADJAME;In Service;ABIDJAN;\"\"\"Abidjan_EST\";AG...\n",
              "1       1;ADJAME;In Service;ABIDJAN;\"\"\"Abidjan_EST\";AG...\n",
              "2       2;ADJAME;In Service;ABIDJAN;\"\"\"Abidjan_EST\";AG...\n",
              "3       3;ASSINIE;In Service;INTERIEUR;Grand-EST;\"ASSI...\n",
              "4       4;ASSINIE;In Service;INTERIEUR;Grand-EST;\"ASSI...\n",
              "                              ...                        \n",
              "3969    3969;ZUENOULA;In Service;INTERIEUR;Grand-NORD;...\n",
              "3970    3970;ZUENOULA;In Service;INTERIEUR;Grand-NORD;...\n",
              "3971    3971;ZUENOULA;In Service;INTERIEUR;Grand-NORD;...\n",
              "3972    3972;ZUENOULA;In Service;INTERIEUR;Grand-NORD;...\n",
              "3973    3973;ZUENOULA;In Service;INTERIEUR;Grand-NORD;...\n",
              "Name: ;VILLES;STATUS;LOCALISATION;DECOUPZONE;ZONENAME;LONGITUDE;LATITUDE;REGION;AREA;CELL_ID;SITE_CODE, Length: 3974, dtype: object"
            ]
          },
          "metadata": {
            "tags": []
          },
          "execution_count": 71
        }
      ]
    },
    {
      "cell_type": "markdown",
      "metadata": {
        "id": "KOwee-t2idfg"
      },
      "source": [
        "Identifying the columns"
      ]
    },
    {
      "cell_type": "code",
      "metadata": {
        "colab": {
          "base_uri": "https://localhost:8080/",
          "height": 419
        },
        "id": "8YcZSI40NsFN",
        "outputId": "0f9bac7c-4a73-4c91-d7db-20b73b81a7a6"
      },
      "source": [
        "df = pd.DataFrame(df, columns = ['VILLES','STATUS','LOCALISATION','DECOUPZONE','ZONENAME','LONGITUDE','LATITUDE','REGION','AREA','CELL_ID','SITE_CODE'])\n",
        "\n",
        "#\n",
        "\n",
        "\n",
        "df\n",
        "\n",
        "\n"
      ],
      "execution_count": null,
      "outputs": [
        {
          "output_type": "execute_result",
          "data": {
            "text/html": [
              "<div>\n",
              "<style scoped>\n",
              "    .dataframe tbody tr th:only-of-type {\n",
              "        vertical-align: middle;\n",
              "    }\n",
              "\n",
              "    .dataframe tbody tr th {\n",
              "        vertical-align: top;\n",
              "    }\n",
              "\n",
              "    .dataframe thead th {\n",
              "        text-align: right;\n",
              "    }\n",
              "</style>\n",
              "<table border=\"1\" class=\"dataframe\">\n",
              "  <thead>\n",
              "    <tr style=\"text-align: right;\">\n",
              "      <th></th>\n",
              "      <th>VILLES</th>\n",
              "      <th>STATUS</th>\n",
              "      <th>LOCALISATION</th>\n",
              "      <th>DECOUPZONE</th>\n",
              "      <th>ZONENAME</th>\n",
              "      <th>LONGITUDE</th>\n",
              "      <th>LATITUDE</th>\n",
              "      <th>REGION</th>\n",
              "      <th>AREA</th>\n",
              "      <th>CELL_ID</th>\n",
              "      <th>SITE_CODE</th>\n",
              "    </tr>\n",
              "  </thead>\n",
              "  <tbody>\n",
              "    <tr>\n",
              "      <th>0</th>\n",
              "      <td>NaN</td>\n",
              "      <td>NaN</td>\n",
              "      <td>NaN</td>\n",
              "      <td>NaN</td>\n",
              "      <td>NaN</td>\n",
              "      <td>NaN</td>\n",
              "      <td>NaN</td>\n",
              "      <td>NaN</td>\n",
              "      <td>NaN</td>\n",
              "      <td>NaN</td>\n",
              "      <td>NaN</td>\n",
              "    </tr>\n",
              "    <tr>\n",
              "      <th>1</th>\n",
              "      <td>NaN</td>\n",
              "      <td>NaN</td>\n",
              "      <td>NaN</td>\n",
              "      <td>NaN</td>\n",
              "      <td>NaN</td>\n",
              "      <td>NaN</td>\n",
              "      <td>NaN</td>\n",
              "      <td>NaN</td>\n",
              "      <td>NaN</td>\n",
              "      <td>NaN</td>\n",
              "      <td>NaN</td>\n",
              "    </tr>\n",
              "    <tr>\n",
              "      <th>2</th>\n",
              "      <td>NaN</td>\n",
              "      <td>NaN</td>\n",
              "      <td>NaN</td>\n",
              "      <td>NaN</td>\n",
              "      <td>NaN</td>\n",
              "      <td>NaN</td>\n",
              "      <td>NaN</td>\n",
              "      <td>NaN</td>\n",
              "      <td>NaN</td>\n",
              "      <td>NaN</td>\n",
              "      <td>NaN</td>\n",
              "    </tr>\n",
              "    <tr>\n",
              "      <th>3</th>\n",
              "      <td>NaN</td>\n",
              "      <td>NaN</td>\n",
              "      <td>NaN</td>\n",
              "      <td>NaN</td>\n",
              "      <td>NaN</td>\n",
              "      <td>NaN</td>\n",
              "      <td>NaN</td>\n",
              "      <td>NaN</td>\n",
              "      <td>NaN</td>\n",
              "      <td>NaN</td>\n",
              "      <td>NaN</td>\n",
              "    </tr>\n",
              "    <tr>\n",
              "      <th>4</th>\n",
              "      <td>NaN</td>\n",
              "      <td>NaN</td>\n",
              "      <td>NaN</td>\n",
              "      <td>NaN</td>\n",
              "      <td>NaN</td>\n",
              "      <td>NaN</td>\n",
              "      <td>NaN</td>\n",
              "      <td>NaN</td>\n",
              "      <td>NaN</td>\n",
              "      <td>NaN</td>\n",
              "      <td>NaN</td>\n",
              "    </tr>\n",
              "    <tr>\n",
              "      <th>...</th>\n",
              "      <td>...</td>\n",
              "      <td>...</td>\n",
              "      <td>...</td>\n",
              "      <td>...</td>\n",
              "      <td>...</td>\n",
              "      <td>...</td>\n",
              "      <td>...</td>\n",
              "      <td>...</td>\n",
              "      <td>...</td>\n",
              "      <td>...</td>\n",
              "      <td>...</td>\n",
              "    </tr>\n",
              "    <tr>\n",
              "      <th>3969</th>\n",
              "      <td>NaN</td>\n",
              "      <td>NaN</td>\n",
              "      <td>NaN</td>\n",
              "      <td>NaN</td>\n",
              "      <td>NaN</td>\n",
              "      <td>NaN</td>\n",
              "      <td>NaN</td>\n",
              "      <td>NaN</td>\n",
              "      <td>NaN</td>\n",
              "      <td>NaN</td>\n",
              "      <td>NaN</td>\n",
              "    </tr>\n",
              "    <tr>\n",
              "      <th>3970</th>\n",
              "      <td>NaN</td>\n",
              "      <td>NaN</td>\n",
              "      <td>NaN</td>\n",
              "      <td>NaN</td>\n",
              "      <td>NaN</td>\n",
              "      <td>NaN</td>\n",
              "      <td>NaN</td>\n",
              "      <td>NaN</td>\n",
              "      <td>NaN</td>\n",
              "      <td>NaN</td>\n",
              "      <td>NaN</td>\n",
              "    </tr>\n",
              "    <tr>\n",
              "      <th>3971</th>\n",
              "      <td>NaN</td>\n",
              "      <td>NaN</td>\n",
              "      <td>NaN</td>\n",
              "      <td>NaN</td>\n",
              "      <td>NaN</td>\n",
              "      <td>NaN</td>\n",
              "      <td>NaN</td>\n",
              "      <td>NaN</td>\n",
              "      <td>NaN</td>\n",
              "      <td>NaN</td>\n",
              "      <td>NaN</td>\n",
              "    </tr>\n",
              "    <tr>\n",
              "      <th>3972</th>\n",
              "      <td>NaN</td>\n",
              "      <td>NaN</td>\n",
              "      <td>NaN</td>\n",
              "      <td>NaN</td>\n",
              "      <td>NaN</td>\n",
              "      <td>NaN</td>\n",
              "      <td>NaN</td>\n",
              "      <td>NaN</td>\n",
              "      <td>NaN</td>\n",
              "      <td>NaN</td>\n",
              "      <td>NaN</td>\n",
              "    </tr>\n",
              "    <tr>\n",
              "      <th>3973</th>\n",
              "      <td>NaN</td>\n",
              "      <td>NaN</td>\n",
              "      <td>NaN</td>\n",
              "      <td>NaN</td>\n",
              "      <td>NaN</td>\n",
              "      <td>NaN</td>\n",
              "      <td>NaN</td>\n",
              "      <td>NaN</td>\n",
              "      <td>NaN</td>\n",
              "      <td>NaN</td>\n",
              "      <td>NaN</td>\n",
              "    </tr>\n",
              "  </tbody>\n",
              "</table>\n",
              "<p>3974 rows × 11 columns</p>\n",
              "</div>"
            ],
            "text/plain": [
              "      VILLES  STATUS  LOCALISATION  ...  AREA  CELL_ID  SITE_CODE\n",
              "0        NaN     NaN           NaN  ...   NaN      NaN        NaN\n",
              "1        NaN     NaN           NaN  ...   NaN      NaN        NaN\n",
              "2        NaN     NaN           NaN  ...   NaN      NaN        NaN\n",
              "3        NaN     NaN           NaN  ...   NaN      NaN        NaN\n",
              "4        NaN     NaN           NaN  ...   NaN      NaN        NaN\n",
              "...      ...     ...           ...  ...   ...      ...        ...\n",
              "3969     NaN     NaN           NaN  ...   NaN      NaN        NaN\n",
              "3970     NaN     NaN           NaN  ...   NaN      NaN        NaN\n",
              "3971     NaN     NaN           NaN  ...   NaN      NaN        NaN\n",
              "3972     NaN     NaN           NaN  ...   NaN      NaN        NaN\n",
              "3973     NaN     NaN           NaN  ...   NaN      NaN        NaN\n",
              "\n",
              "[3974 rows x 11 columns]"
            ]
          },
          "metadata": {
            "tags": []
          },
          "execution_count": 59
        }
      ]
    },
    {
      "cell_type": "markdown",
      "metadata": {
        "id": "vOkb7_yJi2V1"
      },
      "source": [
        "Finding the most used city in the 3 days"
      ]
    },
    {
      "cell_type": "code",
      "metadata": {
        "id": "jxLnOMk3jO0I"
      },
      "source": [
        "max('cells_geo.csv',VILLES)"
      ],
      "execution_count": null,
      "outputs": []
    },
    {
      "cell_type": "markdown",
      "metadata": {
        "id": "11uWpv1Ols6G"
      },
      "source": [
        "Cities Most used during Business and home hours\n"
      ]
    },
    {
      "cell_type": "code",
      "metadata": {
        "id": "84zv36kll7Cg"
      },
      "source": [
        "max('in_service',VILLES)"
      ],
      "execution_count": null,
      "outputs": []
    }
  ]
}